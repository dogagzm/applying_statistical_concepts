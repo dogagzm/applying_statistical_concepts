{
 "cells": [
  {
   "cell_type": "markdown",
   "id": "7b0bcac6-5086-4f4e-928a-570a9ff7ae58",
   "metadata": {},
   "source": [
    "# Assignment 3"
   ]
  },
  {
   "cell_type": "markdown",
   "id": "5fce0350-2a17-4e93-8d4c-0b8748fdfc32",
   "metadata": {},
   "source": [
    "As before, if a question can be answered with 'yes/no', or a numeric value, you may simply state as much. If you incorporate code from the internet (which is not required and generally not advisable), please cite the source within your code (providing a URL is sufficient).\n",
    "\n",
    "We will go through comparable code and concepts in the live learning session. If you run into trouble, start by using the help `help()` function in Python, to get information about the datasets and function in question. The internet is also a great resource when coding (though note that no outside searches are required by the assignment!). If you do incorporate code from the internet, please cite the source within your code (providing a URL is sufficient).\n",
    "\n",
    "Please bring questions that you cannot work out on your own to office hours, work periods or share with your peers on Slack. We will work with you through the issue."
   ]
  },
  {
   "cell_type": "code",
   "execution_count": 1,
   "id": "b92f7c91",
   "metadata": {},
   "outputs": [],
   "source": [
    "import numpy as np\n",
    "import pandas as pd\n",
    "import matplotlib.pyplot as plt\n",
    "import statsmodels.api as sm"
   ]
  },
  {
   "cell_type": "markdown",
   "id": "d7fff1dd-e4ce-4a60-96a0-d08136e9bf5e",
   "metadata": {},
   "source": [
    "### Question 1: Resampling via Bootstrapping\n",
    "\n",
    "Now, we'll use the `iris` dataset, which we will add to Python using the `statsmodels` library. As always, start by reviewing a description of the dataset, by printing the dataset."
   ]
  },
  {
   "cell_type": "code",
   "execution_count": 3,
   "id": "47f4dcf5-0d4c-41ea-892d-d9f2c1aa1859",
   "metadata": {},
   "outputs": [],
   "source": [
    "# Import\n",
    "iris = sm.datasets.get_rdataset('iris', 'datasets')\n",
    "df = pd.DataFrame(iris.data)"
   ]
  },
  {
   "cell_type": "markdown",
   "id": "7717a32c",
   "metadata": {},
   "source": [
    "_(i)_ Create an `alpha_func(D, idx)` function which takes the `Sepal`'s `width` and `length` to calculate for alpha"
   ]
  },
  {
   "cell_type": "code",
   "execution_count": 4,
   "id": "f3da5483",
   "metadata": {},
   "outputs": [],
   "source": [
    "# Your code here\n",
    "def alpha_func(D, idx):\n",
    "    sepal_length = D.loc[idx, 'Sepal.Length']\n",
    "    sepal_width = D.loc[idx, 'Sepal.Width']\n",
    "    \n",
    "    alpha = sepal_length / sepal_width\n",
    "    \n",
    "    return alpha\n",
    "\n"
   ]
  },
  {
   "cell_type": "markdown",
   "id": "ff94d66b",
   "metadata": {},
   "source": [
    "Test the code below"
   ]
  },
  {
   "cell_type": "code",
   "execution_count": 5,
   "id": "eda715cd",
   "metadata": {},
   "outputs": [
    {
     "data": {
      "text/plain": [
       "0     1.457143\n",
       "1     1.633333\n",
       "2     1.468750\n",
       "3     1.483871\n",
       "4     1.388889\n",
       "        ...   \n",
       "95    1.900000\n",
       "96    1.965517\n",
       "97    2.137931\n",
       "98    2.040000\n",
       "99    2.035714\n",
       "Length: 100, dtype: float64"
      ]
     },
     "execution_count": 5,
     "metadata": {},
     "output_type": "execute_result"
    }
   ],
   "source": [
    "alpha_func(df, range(100))"
   ]
  },
  {
   "cell_type": "markdown",
   "id": "f338b14e",
   "metadata": {},
   "source": [
    "_(ii)_ Construct a new bootstrap data set and recompute alpha"
   ]
  },
  {
   "cell_type": "code",
   "execution_count": 6,
   "id": "34ee835f",
   "metadata": {},
   "outputs": [
    {
     "data": {
      "text/plain": [
       "85    1.764706\n",
       "63    2.103448\n",
       "51    2.000000\n",
       "26    1.470588\n",
       "30    1.548387\n",
       "        ...   \n",
       "62    2.727273\n",
       "4     1.388889\n",
       "8     1.517241\n",
       "37    1.361111\n",
       "83    2.222222\n",
       "Length: 100, dtype: float64"
      ]
     },
     "execution_count": 6,
     "metadata": {},
     "output_type": "execute_result"
    }
   ],
   "source": [
    "rng = np.random.default_rng(0)\n",
    "alpha_func(df,\n",
    "           rng.choice(100,\n",
    "                      100,\n",
    "                      replace=True))"
   ]
  },
  {
   "cell_type": "markdown",
   "id": "056080ff-7aec-41aa-bb61-763b390e4cf2",
   "metadata": {},
   "source": [
    "Imagine we are analysts working for a shipping company. The company wants to know the average length of iris' petals, to inform space allotment on an upcoming shipment. The relevant variable in the dataset is `Sepal.Length`. \n",
    "\n",
    "_(iii)_ Why is it (perhaps) not sufficient to simply calculate the mean of `Sepal.Length`? What more information will preforming a bootstrap provide to us?  \n",
    "\n",
    "_(iv)_ We can perform bootstrapping in Python by defining a simple function using `boot_SE()` for computing the bootstrap standard error. Remember, because bootstrapping involves randomness, we must first set a seed for reproducibility!"
   ]
  },
  {
   "cell_type": "code",
   "execution_count": 10,
   "id": "77540f76-7747-4dba-8e77-e1ded54af536",
   "metadata": {},
   "outputs": [
    {
     "name": "stdout",
     "output_type": "stream",
     "text": [
      "Bootstrap Standard Error of Sepal Length: 0.0670\n"
     ]
    }
   ],
   "source": [
    "# Add your code here to set the seed\n",
    "#(iii) because does not provide variance, uncertainity. how much variance would we see with another sample. \n",
    "#(iv)\n",
    "\n",
    "def boot_SE(data, num_bootstrap_samples=1000):\n",
    "    np.random.seed(42)  \n",
    "    boot_means = []\n",
    "    n = len(data)\n",
    "    \n",
    "    for _ in range(num_bootstrap_samples):\n",
    "        bootstrap_sample = np.random.choice(data, size=n, replace=True)\n",
    "        boot_mean = np.mean(bootstrap_sample)\n",
    "        boot_means.append(boot_mean)\n",
    "    \n",
    "    boot_se = np.std(boot_means)\n",
    "    return boot_se\n",
    "\n",
    "sepal_lengths = df['Sepal.Length'].values\n",
    "\n",
    "\n",
    "bootstrap_standard_error = boot_SE(sepal_lengths)\n",
    "\n",
    "print(f\"Bootstrap Standard Error of Sepal Length: {bootstrap_standard_error:.4f}\")\n"
   ]
  },
  {
   "cell_type": "markdown",
   "id": "8a543472",
   "metadata": {},
   "source": [
    "_(v)_ Evaluate the accuracy of our alpha estimate with B = 1000"
   ]
  },
  {
   "cell_type": "code",
   "execution_count": 11,
   "id": "9ed41c4e",
   "metadata": {},
   "outputs": [],
   "source": [
    "# Your code here\n",
    "def alpha_func(D, idx):\n",
    "    \n",
    "    sepal_length = D.loc[idx, 'Sepal.Length']\n",
    "    sepal_width = D.loc[idx, 'Sepal.Width']\n",
    "    \n",
    "    alpha = sepal_length / sepal_width\n",
    "    \n",
    "    return alpha\n"
   ]
  },
  {
   "cell_type": "markdown",
   "id": "785fe758-f395-40b6-a9a3-28ec2efeba29",
   "metadata": {},
   "source": [
    "_(vi)_ What is the original mean value of `Sepal.Length`?\n",
    "\n",
    "Next, let's look _inside_ our bootstrapping to understand the new, bootstrapped sample we have created. Let's review the bootstrapped range, by using `t_range = np.ptp(boot_se_samples)`.\n",
    "\n",
    "_(vii)_. Write code to review the bootstrapped mean value, and the standard deviation of the bootstrapped samples. Compare the mean against its original value."
   ]
  },
  {
   "cell_type": "code",
   "execution_count": 20,
   "id": "7686243c",
   "metadata": {},
   "outputs": [
    {
     "name": "stdout",
     "output_type": "stream",
     "text": [
      "Bootstrapped Mean Sepal Length: 5.8409\n",
      "Bootstrapped Standard Deviation: 0.0683\n",
      "Difference between Bootstrapped Mean and Original Mean: -0.0025\n"
     ]
    }
   ],
   "source": [
    "# Add your code here\n",
    "\n",
    "\n",
    "\n",
    "bootstrapped_mean = np.mean(boot_se_samples)\n",
    "bootstrapped_std = np.std(boot_se_samples)\n",
    "print(f\"Bootstrapped Mean Sepal Length: {bootstrapped_mean:.4f}\")\n",
    "print(f\"Bootstrapped Standard Deviation: {bootstrapped_std:.4f}\")\n",
    "\n",
    "\n",
    "print(f\"Difference between Bootstrapped Mean and Original Mean: {bootstrapped_mean - original_mean_sepal_length:.4f}\")\n"
   ]
  },
  {
   "cell_type": "markdown",
   "id": "66c6c663-f3bb-4a15-8896-6dccfb7259fd",
   "metadata": {},
   "source": [
    "_(viii)_ Next, let's compute 95% confidence intervals, for the mean value of iris petal length. (Hint: use the `np.percentile` function)"
   ]
  },
  {
   "cell_type": "code",
   "execution_count": 17,
   "id": "74de4a76-e500-4c93-82a9-e7365cc86c91",
   "metadata": {},
   "outputs": [
    {
     "name": "stdout",
     "output_type": "stream",
     "text": [
      "95% Confidence Interval for Sepal Length Mean: [5.712  5.9647]\n"
     ]
    }
   ],
   "source": [
    "# Add your code here\n",
    "\n",
    "confidence_interval = np.percentile(boot_se_samples, [2.5, 97.5])\n",
    "print(f\"95% Confidence Interval for Sepal Length Mean: {confidence_interval}\")"
   ]
  },
  {
   "cell_type": "markdown",
   "id": "488e54f7-ebe4-4740-835c-9832320005d0",
   "metadata": {},
   "source": [
    "_(ix)_. Use the plot function to create an histogram of the bootstrapped samples. What does this histogram show ?"
   ]
  },
  {
   "cell_type": "code",
   "execution_count": 26,
   "id": "4fca4e3f",
   "metadata": {},
   "outputs": [
    {
     "data": {
      "image/png": "[encoded data removed]",
      "text/plain": [
       "<Figure size 640x480 with 1 Axes>"
      ]
     },
     "metadata": {},
     "output_type": "display_data"
    }
   ],
   "source": [
    "#Complete this\n",
    "\n",
    "# Create a figure and axis\n",
    "fig, ax = plt.subplots()\n",
    "\n",
    "# Create the histogram\n",
    "#Add your code here\n",
    "ax.hist(boot_se_samples, bins=50, edgecolor='white')\n",
    "\n",
    "# Add a title\n",
    "#Add your code here\n",
    "ax.set_title('Histogram')\n",
    "\n",
    "# Add a label to the x-axis\n",
    "#Add your code here\n",
    "ax.set_xlabel('Means')\n",
    "\n",
    "# Add a label to the y-axis\n",
    "#Add your code here\n",
    "ax.set_ylabel('Frequency')\n",
    "\n",
    "# Show the plot\n",
    "plt.show()"
   ]
  },
  {
   "cell_type": "markdown",
   "id": "bfa9a095-9c7a-4ab5-aa99-b11bf419fae0",
   "metadata": {},
   "source": [
    "_(x)_ Given your bootstrapped analysis, what do you recommend to shipping company? "
   ]
  },
  {
   "cell_type": "code",
   "execution_count": null,
   "id": "5e83202e-4aab-44bb-8586-5d0e82e9e201",
   "metadata": {},
   "outputs": [],
   "source": [
    "# Write your answer here\n",
    "\n",
    "#allocate space based on mean. put some buffer. our analysis has very high confidence in accomodating nearly all variations. \n",
    "# Original Mean Sepal Length:\n",
    "#The original mean is 5.8433\n",
    "#Bootstrap Standard Error is 0.0683\n",
    "#Bootstrapped Mean Sepal Length is 5.8409. very close to the original mean\n",
    "#95% Confidence Interval [5.712  5.9647] a range within which we are 95% confident that the true population mean Sepal.Length lies\n",
    "\n"
   ]
  },
  {
   "cell_type": "markdown",
   "id": "466943e8",
   "metadata": {},
   "source": [
    "# Criteria\n",
    "\n",
    "|Criteria            |Complete           |Incomplete          |\n",
    "|--------------------|---------------|--------------|\n",
    "|Bootstrapping|All steps are done correctly and the answers are correct.|At least one step is done incorrectly leading to a wrong answer.|"
   ]
  },
  {
   "cell_type": "markdown",
   "id": "68b8a226",
   "metadata": {},
   "source": [
    "## Submission Information\n",
    "\n",
    "🚨 **Please review our [Assignment Submission Guide](https://github.com/UofT-DSI/onboarding/blob/main/onboarding_documents/submissions.md)** 🚨 for detailed instructions on how to format, branch, and submit your work. Following these guidelines is crucial for your submissions to be evaluated correctly.\n",
    "\n",
    "### Note:\n",
    "\n",
    "If you like, you may collaborate with others in the cohort. If you choose to do so, please indicate with whom you have worked with in your pull request by tagging their GitHub username. Separate submissions are required.\n",
    "\n",
    "\n",
    "### Submission Parameters:\n",
    "* Submission Due Date: `HH:MM AM/PM - DD/MM/YYYY`\n",
    "* The branch name for your repo should be: `assignment-3`\n",
    "* What to submit for this assignment:\n",
    "    * This Jupyter Notebook (assignment_3.ipynb) should be populated and should be the only change in your pull request.\n",
    "* What the pull request link should look like for this assignment: `https://github.com/<your_github_username>/applied_statistical_concepts/pull/<pr_id>`\n",
    "    * Open a private window in your browser. Copy and paste the link to your pull request into the address bar. Make sure you can see your pull request properly. This helps the technical facilitator and learning support staff review your submission easily.\n",
    "\n",
    "Checklist:\n",
    "- [ ] Created a branch with the correct naming convention.\n",
    "- [ ] Ensured that the repository is public.\n",
    "- [ ] Reviewed the PR description guidelines and adhered to them.\n",
    "- [ ] Verify that the link is accessible in a private browser window.\n",
    "\n",
    "If you encounter any difficulties or have questions, please don't hesitate to reach out to our team via our Slack at `#cohort-3-help`. Our Technical Facilitators and Learning Support staff are here to help you navigate any challenges.\n"
   ]
  }
 ],
 "metadata": {
  "kernelspec": {
   "display_name": "Python 3.10.4",
   "language": "python",
   "name": "python3"
  },
  "language_info": {
   "codemirror_mode": {
    "name": "ipython",
    "version": 3
   },
   "file_extension": ".py",
   "mimetype": "text/x-python",
   "name": "python",
   "nbconvert_exporter": "python",
   "pygments_lexer": "ipython3",
   "version": "3.9.15"
  },
  "vscode": {
   "interpreter": {
    "hash": "497a84dc8fec8cf8d24e7e87b6d954c9a18a327edc66feb9b9ea7e9e72cc5c7e"
   }
  }
 },
 "nbformat": 4,
 "nbformat_minor": 5
}
